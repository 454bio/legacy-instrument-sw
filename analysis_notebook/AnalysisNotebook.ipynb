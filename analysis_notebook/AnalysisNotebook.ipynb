{
 "cells": [
  {
   "cell_type": "markdown",
   "id": "5f6b32e1",
   "metadata": {},
   "source": [
    "# Zion Data Analysis Notebook"
   ]
  },
  {
   "cell_type": "markdown",
   "id": "9f6cc8f3",
   "metadata": {},
   "source": [
    "Defs, Imports, etc"
   ]
  },
  {
   "cell_type": "code",
   "execution_count": null,
   "id": "5b9edd6e",
   "metadata": {},
   "outputs": [],
   "source": [
    "import os, sys\n",
    "from glob import glob\n",
    "import time\n",
    "from collections import UserDict, UserString\n",
    "import numpy as np\n",
    "import pandas as pd\n",
    "from skimage.color import rgb2hsv\n",
    "from skimage import filters, morphology, segmentation, measure\n",
    "from scipy.optimize import nnls\n",
    "from tifffile import imread, imwrite\n",
    "import cv2\n",
    "import matplotlib\n",
    "from matplotlib import pyplot as plt\n",
    "%matplotlib inline\n",
    "matplotlib.rcParams['figure.figsize'] = [11, 8]\n",
    "\n",
    "module_path = os.path.abspath(os.path.join('..'))\n",
    "if module_path not in sys.path:\n",
    "    sys.path.append(os.path.join(module_path))\n",
    "    \n",
    "\n",
    "from image_processing.ZionImage import ZionImage, create_labeled_rois, get_wavelength_from_filename, get_cycle_from_filename, get_time_from_filename, get_imageset_from_cycle\n",
    "from image_processing.ZionBase import df_cols, extract_spot_data, csv_to_data, crosstalk_correct, display_signals, create_phase_correct_matrix, base_call, add_basecall_result_to_dataframe\n"
   ]
  },
  {
   "cell_type": "markdown",
   "id": "1e052235",
   "metadata": {},
   "source": [
    "### Give the notebook a directory of tiffs to work in and some parameters:"
   ]
  },
  {
   "cell_type": "code",
   "execution_count": null,
   "id": "e9d90a31",
   "metadata": {},
   "outputs": [],
   "source": [
    "input_dir_path = \"C:\\\\Users\\\\ZacharyAugenfeld\\\\Documents\\\\ZionData\\\\raws\"\n",
    "\n",
    "# This parameter determines whether temporal difference images are used\n",
    "useDifferenceImage = False\n",
    "\n",
    "# This is the name of the UV channel\n",
    "uv_wl = \"365\"\n",
    "\n",
    "# This determines what type of background subtraction is used\n",
    "bgSubtract = False\n",
    "\n",
    "useTiff = False\n",
    "\n",
    "# This was used to help with file identification\n",
    "#bTiff = False\n"
   ]
  },
  {
   "cell_type": "markdown",
   "id": "650574d3",
   "metadata": {},
   "source": [
    "## Step 1: Spot Detection\n",
    "\n",
    "### Define parameters used in spot detection. \n",
    "\n",
    "When you run this cell, ROIs will be displayed. Verify you get the spots you want. (If not, adjust parameters here and re-run.)"
   ]
  },
  {
   "cell_type": "code",
   "execution_count": null,
   "id": "1c1d7d34",
   "metadata": {
    "scrolled": false
   },
   "outputs": [],
   "source": [
    "# This determines size of noise filter kernel (prob doesn't need to be changed much)\n",
    "median_kernel_size = 9\n",
    "\n",
    "# These tune spot size and how much spot border is included\n",
    "erode_kernel_size = 17\n",
    "dilate_kernel_size = 13\n",
    "\n",
    "# This adjusts sensitivity for thresholding (should be close to 1)\n",
    "threshold_scale = 0.25\n",
    "\n",
    "# These are constraints on how large or small a spot could be\n",
    "spotMinSize = 1200\n",
    "spotMaxSize = None\n",
    "\n",
    "# This is a list of RGB weights when turning the (UV) image to grayscale\n",
    "rgb_weights = (0.4, 0.2, 0.1)\n",
    "#rgb_weights = None\n",
    "\n",
    "'''If roi_label_imagefile is set to None, spot detection will be performed.\n",
    "   If it is set to a file, it will load spot ROIs and NOT run spot detection,\n",
    "   and the above spot detection parameters will be ignored.'''\n",
    "\n",
    "roi_label_imagefile = None\n",
    "#roi_label_imagefile = \"roi_map.tif\" #useful if already run\n",
    "\n",
    "\n",
    "\n",
    "#### DO NOT EDIT BELOW THIS LINE ####\n",
    "cycle1ImageSet = get_imageset_from_cycle(1, input_dir_path, uv_wl, useDifferenceImage, useTiff=useTiff)\n",
    "\n",
    "if roi_label_imagefile is not None:\n",
    "    spot_labels = imread(os.path.join(input_dir_path, roi_label_imagefile))\n",
    "else:\n",
    "    _,spot_labels,_ = cycle1ImageSet.detect_rois( os.path.join(input_dir_path), median_ks=median_kernel_size, erode_ks=erode_kernel_size, dilate_ks=dilate_kernel_size, threshold_scale=threshold_scale, minSize=spotMinSize, maxSize=spotMaxSize, gray_weights=rgb_weights)\n",
    "\n",
    "rois_img = create_labeled_rois(spot_labels)\n",
    "imwrite(os.path.join(input_dir_path, \"rois_img.tif\"), rois_img)\n",
    "plt.imshow(rois_img)\n",
    "\n",
    "#TODO add other excitation images with ROI overlay"
   ]
  },
  {
   "cell_type": "markdown",
   "id": "9ad530a6",
   "metadata": {},
   "source": [
    "## Step 2: Define color dictionary\n",
    "\n",
    "Either provide a file OR select spot (by label) for each base:"
   ]
  },
  {
   "cell_type": "code",
   "execution_count": null,
   "id": "cfe59251",
   "metadata": {
    "scrolled": false
   },
   "outputs": [],
   "source": [
    "# For each base, provide purest spot (by label in image above): \n",
    "color_A_spot = 3\n",
    "color_C_spot = 19\n",
    "color_G_spot = 14\n",
    "color_T_spot = 20\n",
    "\n",
    "'''If basis_colors_file is set to None, spot detection will be performed.\n",
    "   If it is set to a file, it will load color dictionary from file,\n",
    "   ignoring the above basis color spots.'''\n",
    "\n",
    "basis_colors_file = None\n",
    "#basis_colors_file = os.path.join(input_dir_path, \"M.npy\")\n",
    "\n",
    "# Define what spot is used as background/reference spot\n",
    "# Note that this is only used if bgSubtract above is True\n",
    "bg_spot = None\n",
    "\n",
    "#### DO NOT EDIT BELOW THIS LINE ####\n",
    "if basis_colors_file is not None:\n",
    "    M = np.load(basis_colors_file)\n",
    "else:\n",
    "    M = np.zeros(shape=(3*(cycle1ImageSet.nChannels-1), 4))\n",
    "    nSpots = np.max(spot_labels)\n",
    "    for spot in range(1,nSpots+1):\n",
    "        for base_spot_ind, base_spot in enumerate([color_A_spot, color_C_spot, color_G_spot, color_T_spot]):\n",
    "            if spot==base_spot:\n",
    "                #print(f\"setting base index (column) {base_spot_ind} to mean at spot {spot}\")\n",
    "                vec = cycle1ImageSet.get_mean_spot_vector( spot_labels==spot )\n",
    "                #TODO: should we normalize anything here?\n",
    "                M[:,base_spot_ind] = vec\n",
    "    np.save(os.path.join(input_dir_path, \"M.npy\"), M)\n",
    "print(f\"M = \\n{M}\")"
   ]
  },
  {
   "cell_type": "markdown",
   "id": "f8694c61",
   "metadata": {},
   "source": [
    "## Step 3: Extract spot data and write to CSV"
   ]
  },
  {
   "cell_type": "code",
   "execution_count": null,
   "id": "7dc998cb",
   "metadata": {},
   "outputs": [],
   "source": [
    "numCycles = 7\n",
    "\n",
    "csvfile = os.path.join(input_dir_path, \"basecaller_spot_data.csv\")\n",
    "with open(csvfile, \"w\") as f:\n",
    "    f.write(','.join(df_cols)+'\\n')\n",
    "    \n",
    "for new_cycle in range(1,numCycles+1):\n",
    "    currImageSet = get_imageset_from_cycle(new_cycle, input_dir_path, uv_wl, useDifferenceImage, useTiff=useTiff)\n",
    "    spot_data = extract_spot_data(currImageSet, spot_labels, csvFileName=csvfile)"
   ]
  },
  {
   "cell_type": "markdown",
   "id": "445f1e86",
   "metadata": {},
   "source": [
    "## Step 4: Perform base-calling\n",
    "\n",
    "### First, determine signal pre-phase-correction:\n",
    "Define number of cycles COLLECTED (phase-corrected output of base-caller will be 1 fewer):"
   ]
  },
  {
   "cell_type": "code",
   "execution_count": null,
   "id": "f813d996",
   "metadata": {
    "scrolled": false
   },
   "outputs": [],
   "source": [
    "#### DO NOT EDIT BELOW THIS LINE ####\n",
    "# todo kinetics figure, similar to below\n",
    "# generate pre-phase-correction histograms:\n",
    "basecall_csv = csvfile\n",
    "\n",
    "#todo: add option to use median instead of mean\n",
    "\n",
    "basecall_pd = csv_to_data(basecall_csv)\n",
    "signal_pre_basecall, spotlist, basecall_pd_pre = crosstalk_correct(basecall_pd, M, numCycles)\n",
    "#spotlist = sorted(spotlist)\n",
    "basecall_pd_pre.to_csv(os.path.join(input_dir_path, \"basecaller_output_data_pre.csv\"))"
   ]
  },
  {
   "cell_type": "markdown",
   "id": "f5715bc5",
   "metadata": {},
   "source": [
    "### Next, define p and q for phase correction matrix:"
   ]
  },
  {
   "cell_type": "code",
   "execution_count": null,
   "id": "98a3e48b",
   "metadata": {},
   "outputs": [],
   "source": [
    "p = 0.015 # Probability that ZERO new base synthesized during a cycle (lagging)\n",
    "q = 0.1   # Probability that TWO new bases synthesized during a cycle (leading)\n",
    "\n",
    "#### DO NOT EDIT BELOW THIS LINE ####\n",
    "Qinv = create_phase_correct_matrix(p,q,numCycles)\n",
    "signal_post_basecall = np.transpose( (np.transpose(signal_pre_basecall, axes=(0,2,1)) @ Qinv)[:,:,:-1], axes=(0,2,1))\n",
    "basecall_pd_post = add_basecall_result_to_dataframe(signal_post_basecall, basecall_pd)\n",
    "basecall_pd_post.to_csv(os.path.join(input_dir_path, \"basecaller_output_data_post.csv\"))\n"
   ]
  },
  {
   "cell_type": "markdown",
   "id": "d2333971",
   "metadata": {},
   "source": [
    "### Now display results and write to report\n",
    "Define report filename and number of rows in figure outputs."
   ]
  },
  {
   "cell_type": "code",
   "execution_count": null,
   "id": "80323d6a",
   "metadata": {
    "scrolled": false
   },
   "outputs": [],
   "source": [
    "# You can name report file here:\n",
    "reportfile = os.path.join(input_dir_path, \"report.txt\")\n",
    "\n",
    "figNumRows = 5\n",
    "\n",
    "#TODO: spot name lookup table\n",
    "\n",
    "#### DO NOT EDIT BELOW THIS LINE ####\n",
    "f1, f2 = display_signals(signal_pre_basecall, spotlist, numCycles, numRows=figNumRows, preOrPost=\"pre\")\n",
    "f3, f4 = display_signals(signal_post_basecall, spotlist, numCycles-1, numRows=figNumRows, preOrPost=\"post\")\n",
    "\n",
    "for f_idx, f in enumerate(f1):\n",
    "    f.savefig(os.path.join(input_dir_path, f\"Purity Pre-Phase {f_idx+1}.png\"))\n",
    "for f_idx, f in enumerate(f2):\n",
    "    f.savefig(os.path.join(input_dir_path, f\"Signal Pre-Phase {f_idx+1}.png\"))\n",
    "for f_idx, f in enumerate(f3):\n",
    "    f.savefig(os.path.join(input_dir_path, f\"Purity Post-Phase {f_idx+1}.png\"))\n",
    "#for f_idx, f in enumerate(f4):\n",
    "#    f.savefig(os.path.join(input_dir_path, f\"Signal Post-Phase {f_idx+1}.png\"))\n",
    "\n",
    "#TODO add more metrics to report\n",
    "#TODO package up as pdf?    \n",
    "\n",
    "with open(reportfile, 'w') as f:\n",
    "    if useDifferenceImage:\n",
    "        print(f\"Difference = Temporal\", file=f)\n",
    "    else:\n",
    "        print(f\"Difference = Dark\", file=f)\n",
    "\n",
    "    print(f\"Median Filter Kernel Size = {median_kernel_size}\", file=f)\n",
    "    print(f\"Erosion Kernel Size = {erode_kernel_size}\", file=f)\n",
    "    print(f\"Dilation Kernel Size = {dilate_kernel_size}\", file=f)\n",
    "    print(f\"Mean Threshold Scale Factor = {threshold_scale}\", file=f)\n",
    "    print(f\"ROI labels at {os.path.join(input_dir_path, 'rois.jpg')}\", file=f)\n",
    "    print(f\"'Cross-talk' matrix M = {M}\", file=f)\n",
    "    #todo list where output csv is?\n",
    "    print(f\"Pre-phase corrected Purity at {os.path.join(input_dir_path, 'Purity Pre-Phase.png')}\", file=f)\n",
    "    print(f\"Pre-phase corrected Signal {os.path.join(input_dir_path, 'Signal Pre-Phase.png')}\", file=f)\n",
    "    print(f\"Base-caller p = {p}\", file=f)\n",
    "    print(f\"Base-caller q = {q}\", file=f)\n",
    "    print(f\"Post-phase corrected Purity at {os.path.join(input_dir_path, 'Purity Post-Phase.png')}\", file=f)\n",
    "    print(f\"Post-phase corrected Signal {os.path.join(input_dir_path, 'Signal Post-Phase.png')}\", file=f)"
   ]
  },
  {
   "cell_type": "code",
   "execution_count": null,
   "id": "9114656a",
   "metadata": {},
   "outputs": [],
   "source": []
  }
 ],
 "metadata": {
  "kernelspec": {
   "display_name": "Python 3 (ipykernel)",
   "language": "python",
   "name": "python3"
  },
  "language_info": {
   "codemirror_mode": {
    "name": "ipython",
    "version": 3
   },
   "file_extension": ".py",
   "mimetype": "text/x-python",
   "name": "python",
   "nbconvert_exporter": "python",
   "pygments_lexer": "ipython3",
   "version": "3.9.7"
  }
 },
 "nbformat": 4,
 "nbformat_minor": 5
}
