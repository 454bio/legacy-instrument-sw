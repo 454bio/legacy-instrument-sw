{
 "cells": [
  {
   "cell_type": "markdown",
   "id": "5f6b32e1",
   "metadata": {},
   "source": [
    "# Zion Data Analysis Notebook"
   ]
  },
  {
   "cell_type": "code",
   "execution_count": 4,
   "id": "5b9edd6e",
   "metadata": {},
   "outputs": [],
   "source": [
    "import os\n",
    "from glob import glob\n",
    "import time\n",
    "from collections import UserDict, UserString\n",
    "import numpy as np\n",
    "import pandas as pd\n",
    "\n",
    "from skimage.color import rgb2hsv\n",
    "from skimage import filters, morphology, segmentation, measure\n",
    "from scipy.optimize import nnls\n",
    "import cv2\n",
    "\n",
    "from matplotlib import pyplot as plt\n",
    "\n"
   ]
  },
  {
   "cell_type": "markdown",
   "id": "1e052235",
   "metadata": {},
   "source": [
    "Now give the notebook a directory of tiffs to work in:"
   ]
  },
  {
   "cell_type": "code",
   "execution_count": 5,
   "id": "e9d90a31",
   "metadata": {},
   "outputs": [],
   "source": [
    "session_tif_dirpath = \"\""
   ]
  },
  {
   "cell_type": "markdown",
   "id": "650574d3",
   "metadata": {},
   "source": [
    "## Step 1: Spot Detection"
   ]
  },
  {
   "cell_type": "code",
   "execution_count": 6,
   "id": "1c1d7d34",
   "metadata": {},
   "outputs": [],
   "source": [
    "#define parameters\n",
    "\n",
    "#run roi detector, display result\n",
    "\n"
   ]
  },
  {
   "cell_type": "markdown",
   "id": "9ad530a6",
   "metadata": {},
   "source": [
    "## Step 2: Define color dictionary\n",
    "\n",
    "Either provide a file OR select spot (by label) for each base:"
   ]
  },
  {
   "cell_type": "code",
   "execution_count": 7,
   "id": "cfe59251",
   "metadata": {},
   "outputs": [],
   "source": [
    "# Run "
   ]
  },
  {
   "cell_type": "code",
   "execution_count": null,
   "id": "c106258e",
   "metadata": {},
   "outputs": [],
   "source": []
  },
  {
   "cell_type": "code",
   "execution_count": null,
   "id": "541e74ae",
   "metadata": {},
   "outputs": [],
   "source": []
  }
 ],
 "metadata": {
  "kernelspec": {
   "display_name": "Python 3 (ipykernel)",
   "language": "python",
   "name": "python3"
  },
  "language_info": {
   "codemirror_mode": {
    "name": "ipython",
    "version": 3
   },
   "file_extension": ".py",
   "mimetype": "text/x-python",
   "name": "python",
   "nbconvert_exporter": "python",
   "pygments_lexer": "ipython3",
   "version": "3.9.7"
  }
 },
 "nbformat": 4,
 "nbformat_minor": 5
}
