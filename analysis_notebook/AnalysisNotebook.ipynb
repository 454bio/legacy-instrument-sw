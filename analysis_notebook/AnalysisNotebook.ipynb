{
 "cells": [
  {
   "cell_type": "markdown",
   "id": "5f6b32e1",
   "metadata": {},
   "source": [
    "# Zion Data Analysis Notebook"
   ]
  },
  {
   "cell_type": "markdown",
   "id": "9f6cc8f3",
   "metadata": {},
   "source": [
    "Defs, Imports, etc"
   ]
  },
  {
   "cell_type": "code",
   "execution_count": null,
   "id": "5b9edd6e",
   "metadata": {},
   "outputs": [],
   "source": [
    "import os, sys\n",
    "from glob import glob\n",
    "import time\n",
    "from collections import UserDict, UserString\n",
    "import numpy as np\n",
    "import pandas as pd\n",
    "from skimage.color import rgb2hsv\n",
    "from skimage import filters, morphology, segmentation, measure\n",
    "from scipy.optimize import nnls\n",
    "from tifffile import imread, imwrite\n",
    "import cv2\n",
    "import matplotlib\n",
    "from matplotlib import pyplot as plt\n",
    "%matplotlib inline\n",
    "matplotlib.rcParams['figure.figsize'] = [11, 8]\n",
    "\n",
    "module_path = os.path.abspath(os.path.join('..'))\n",
    "if module_path not in sys.path:\n",
    "    sys.path.append(os.path.join(module_path))\n",
    "    \n",
    "\n",
    "from ImageProcessing.ZionImage import ZionImage, create_labeled_rois, get_wavelength_from_filename, get_cycle_from_filename, get_time_from_filename, get_imageset_from_cycle\n",
    "from ImageProcessing.ZionBaseCaller import crosstalk_correct, display_signals, create_phase_correct_matrix, base_call, add_basecall_result_to_dataframe, project_color\n",
    "from ImageProcessing.ZionData import df_cols, extract_spot_data, csv_to_data, add_basecall_result_to_dataframe"
   ]
  },
  {
   "cell_type": "markdown",
   "id": "1e052235",
   "metadata": {},
   "source": [
    "### Give the notebook a directory of tiffs to work in and some parameters:"
   ]
  },
  {
   "cell_type": "code",
   "execution_count": null,
   "id": "e9d90a31",
   "metadata": {},
   "outputs": [],
   "source": [
    "#input_dir_path = \"C:\\\\Users\\\\ZacharyAugenfeld\\\\Documents\\\\ZionData\\\\20221129_1610_TS_0024_5Cycles_95Q7\"\n",
    "#input_dir_path = \"C:\\\\Users\\\\ZacharyAugenfeld\\\\Documents\\\\ZionData\\\\S0063\"\n",
    "input_dir_path = \"Z:\\\\GoogleData\\\\InstrumentData\\\\MK27_02\\\\20230419_2037_S0079_0001\\\\raws2\"\n",
    "#input_dir_path = \"C:\\\\Users\\\\ZacharyAugenfeld\\\\Documents\\\\ZionData\\\\20230404_1527_S0070_0001\\\\raws\"\n",
    "\n",
    "# This parameter determines whether temporal difference images are used\n",
    "useDifferenceImage = True\n",
    "\n",
    "# This is the name of the UV channel\n",
    "uv_wl = \"365\"\n",
    "\n",
    "# This determines what type of background subtraction is used\n",
    "'''Note: bgSubtract = True has not been tested'''\n",
    "bgSubtract = False\n",
    "\n",
    "# This is if the files are .tiff instead of .tif\n",
    "useTiff = False\n",
    "\n",
    "# This was used to help with file identification\n",
    "#bTiff = False\n"
   ]
  },
  {
   "cell_type": "markdown",
   "id": "650574d3",
   "metadata": {},
   "source": [
    "## Step 1: Spot Detection\n",
    "\n",
    "### Define parameters used in spot detection. \n",
    "\n",
    "When you run this cell, ROIs will be displayed. Verify you get the spots you want. (If not, adjust parameters here and re-run.)"
   ]
  },
  {
   "cell_type": "code",
   "execution_count": null,
   "id": "1c1d7d34",
   "metadata": {
    "scrolled": false
   },
   "outputs": [],
   "source": [
    "# This determines size of noise filter kernel (prob doesn't need to be changed much)\n",
    "median_kernel_size = 9\n",
    "\n",
    "# These tune spot size and how much spot border is included\n",
    "erode_kernel_size = 30\n",
    "dilate_kernel_size = 30\n",
    "\n",
    "# This adjusts sensitivity for thresholding (should be close to 1)\n",
    "threshold_scale = 0.9\n",
    "\n",
    "# These are constraints on how large or small a spot could be\n",
    "spotMinSize = 1200\n",
    "spotMaxSize = None\n",
    "\n",
    "# This is a list of RGB weights when turning the (UV) image to grayscale\n",
    "rgb_weights = (0.4, 0.2, 0.1)\n",
    "#rgb_weights = None\n",
    "\n",
    "'''If roi_label_imagefile is set to None, spot detection will be performed.\n",
    "   If it is set to a file, it will load spot ROIs and NOT run spot detection,\n",
    "   and the above spot detection parameters will be ignored.'''\n",
    "\n",
    "roi_label_imagefile = None\n",
    "#roi_label_imagefile = \"Z:\\\\GoogleData\\\\InstrumentData\\\\MK27_02\\\\20230419_2037_S0079_0001\\\\analysis\\\\jupyter\\\\RoiMap2.tif\" #useful if already run\n",
    "#roi_label_imagefile = os.path.join(input_dir_path, \"roi_labels.tiff\")\n",
    "\n",
    "#### DO NOT EDIT BELOW THIS LINE ####\n",
    "cycle1ImageSet = get_imageset_from_cycle(1, input_dir_path, uv_wl, False, useTiff=useTiff)\n",
    "\n",
    "if roi_label_imagefile is not None:\n",
    "    spot_labels = imread(os.path.join(input_dir_path, roi_label_imagefile))\n",
    "else:\n",
    "    _,spot_labels,_ = cycle1ImageSet.detect_rois( os.path.join(input_dir_path), median_ks=median_kernel_size, erode_ks=erode_kernel_size, dilate_ks=dilate_kernel_size, threshold_scale=threshold_scale, minSize=spotMinSize, maxSize=spotMaxSize, gray_weights=rgb_weights)\n",
    "\n",
    "rois_img = create_labeled_rois(spot_labels, notebook=True)\n",
    "#imwrite(os.path.join(input_dir_path, \"rois_img.tif\"), rois_img)\n",
    "plt.imshow(rois_img)\n",
    "\n",
    "#TODO fix other excitation images with ROI overlay (works on pi so condition off of notebook=True)"
   ]
  },
  {
   "cell_type": "markdown",
   "id": "d505c1a1",
   "metadata": {},
   "source": [
    "Now you can remove spots by listing their labels in list of exclusions below, or add spots by attaching a label image (eg an ROI map tif file from ImageJ)."
   ]
  },
  {
   "cell_type": "code",
   "execution_count": null,
   "id": "c41a96ba",
   "metadata": {
    "scrolled": false
   },
   "outputs": [],
   "source": [
    "'''You can (and should) reorder the labels here.\n",
    "    new_order is a lookup table (in python list form) whose values are old roi labels\n",
    "    the indices of which are the new roi labels.\n",
    "    In other words, it maps old roi labels to new roi labels.\n",
    "    \n",
    "    If you want to exclude an roi detected above, put its value in to_exclude below:\n",
    "'''\n",
    "#to_exclude = [12,27,23,44,45,63,81]\n",
    "#new_order = [1,2,3,9,7,5,8,6,4,\n",
    "#             19,14,18,15,11,17,16,12,13,10,\n",
    "#             27,28,23,24,22,25,21,26,20,\n",
    "#             33,37,34,36,29,35,32,30,31,\n",
    "#             39,44,41,42,40,43,38,\n",
    "#             53,45,54,52,46,50,49,47,51,48,\n",
    "#             60,61,62,58,57,59,55,56,63,\n",
    "#             67,71,70,65,69,66,68,64,\n",
    "#             78,72,76,74,77,75,73,\n",
    "#             80,79,82,81\n",
    "#            ]\n",
    "to_exclude=None\n",
    "new_order=None\n",
    "\n",
    "\n",
    "'''\n",
    "Following to be used to add a few more manually segmented ROIs: \n",
    "'''\n",
    "label_image_to_fuse = None\n",
    "#label_image_to_fuse = \"Roi Map.tif\"\n",
    "\n",
    "#### DO NOT EDIT BELOW THIS LINE ####\n",
    "binary_img1 = spot_labels.astype(bool)\n",
    "binary_img2 = imread(os.path.join(input_dir_path, label_image_to_fuse)).astype(bool) if label_image_to_fuse is not None else np.zeros_like(binary_img1)\n",
    "\n",
    "spot_labels2 = measure.label(np.logical_or(binary_img1, binary_img2))\n",
    "spot_labels3 = np.zeros_like(spot_labels2)\n",
    "if new_order is not None:\n",
    "    offset = 0\n",
    "    for spot_label in new_order:\n",
    "        if not spot_label in to_exclude:\n",
    "            spot_labels3[spot_labels2==spot_label]=new_order.index(spot_label)+1-offset\n",
    "        else:\n",
    "            spot_labels3[spot_labels2==spot_label] = 0\n",
    "            offset += 1\n",
    "    rois_img = create_labeled_rois(spot_labels3, notebook=True)\n",
    "    imwrite(os.path.join(input_dir_path, \"rois_img.tif\"), rois_img)\n",
    "    plt.imshow(rois_img)\n",
    "    spot_labels = spot_labels3\n",
    "else:\n",
    "    rois_img = create_labeled_rois(spot_labels2, notebook=True)\n",
    "    imwrite(os.path.join(input_dir_path, \"rois_img.tif\"), rois_img)\n",
    "    plt.imshow(rois_img)\n",
    "    spot_labels = spot_labels2\n",
    "\n",
    "imwrite(os.path.join(input_dir_path,\"roi_labels.tiff\"), spot_labels)"
   ]
  },
  {
   "cell_type": "markdown",
   "id": "9ad530a6",
   "metadata": {},
   "source": [
    "## Step 2: Define color dictionary\n",
    "\n",
    "Either provide a file OR select spot (by label) for each base:"
   ]
  },
  {
   "cell_type": "code",
   "execution_count": null,
   "id": "cfe59251",
   "metadata": {
    "scrolled": false
   },
   "outputs": [],
   "source": [
    "# For each base, provide purest spot (by label in image above): \n",
    "color_A_spots = [1]\n",
    "color_C_spots = [2]\n",
    "color_G_spots = [3]\n",
    "color_T_spots = [4]\n",
    "\n",
    "'''If basis_colors_file is set to None, spot detection will be performed.\n",
    "   If it is set to a file, it will load color dictionary from file,\n",
    "   ignoring the above basis color spots.'''\n",
    "\n",
    "basis_colors_file = None\n",
    "#basis_colors_file = os.path.join(input_dir_path, \"M.npy\")\n",
    "\n",
    "# Define what spot is used as background/reference spot\n",
    "# Note that this is only used if bgSubtract above is True\n",
    "'''Note this has not been tested in notebook.'''\n",
    "bg_spot = None\n",
    "\n",
    "#### DO NOT EDIT BELOW THIS LINE ####\n",
    "if basis_colors_file is not None:\n",
    "    M = np.load(basis_colors_file)\n",
    "else:\n",
    "    M = np.zeros(shape=(3*(cycle1ImageSet.nChannels), 4))\n",
    "    nSpots = np.max(spot_labels) # assumes we've already reindexed\n",
    "    for base_spot_ind, base_spotlist in enumerate( (color_A_spots, color_C_spots, color_G_spots, color_T_spots) ):\n",
    "        vec_list = []\n",
    "        for base_spot in base_spotlist:\n",
    "            vec_list.append( cycle1ImageSet.get_mean_spot_vector(spot_labels==base_spot) )\n",
    "        #TODO: should we normalize the vector here?\n",
    "        vec = np.mean(np.array(vec_list), axis=0)\n",
    "        M[:,base_spot_ind] = vec\n",
    "    np.save(os.path.join(input_dir_path, \"M.npy\"), M)\n",
    "print(f\"M = \\n{M}\")"
   ]
  },
  {
   "cell_type": "markdown",
   "id": "f8694c61",
   "metadata": {},
   "source": [
    "## Step 3: Extract spot data and write to CSV"
   ]
  },
  {
   "cell_type": "code",
   "execution_count": null,
   "id": "7dc998cb",
   "metadata": {
    "scrolled": true
   },
   "outputs": [],
   "source": [
    "''' This is total number of cycles included in database/csv.\n",
    "    So, this should be 6 cycles if you want 5 cycles of basecalls.\n",
    "'''\n",
    "numCycles = 5\n",
    "\n",
    "csvfile = os.path.join(input_dir_path, \"basecaller_spot_data.csv\")\n",
    "with open(csvfile, \"w\") as f:\n",
    "    f.write(','.join(df_cols)+'\\n')\n",
    "    \n",
    "for new_cycle in range(1,numCycles+1):\n",
    "    print(f\"Extracting data from cycle {new_cycle}...\")\n",
    "    currImageSet = get_imageset_from_cycle(new_cycle, input_dir_path, uv_wl, useDifferenceImage, useTiff=useTiff)\n",
    "    spot_data = extract_spot_data(currImageSet, spot_labels, csvFileName=csvfile)\n"
   ]
  },
  {
   "cell_type": "markdown",
   "id": "445f1e86",
   "metadata": {},
   "source": [
    "## Step 4: Perform base-calling\n",
    "\n",
    "### First, determine signal pre-phase-correction:\n",
    "Define number of cycles COLLECTED (phase-corrected output of base-caller will be 1 fewer):"
   ]
  },
  {
   "cell_type": "code",
   "execution_count": null,
   "id": "f813d996",
   "metadata": {
    "scrolled": false
   },
   "outputs": [],
   "source": [
    "#### DO NOT EDIT BELOW THIS LINE ####\n",
    "# todo kinetics figure, similar to below\n",
    "# generate pre-phase-correction histograms:\n",
    "basecall_csv = csvfile\n",
    "\n",
    "#todo: add option to use median instead of mean\n",
    "\n",
    "basecall_pd = csv_to_data(basecall_csv)\n",
    "basecall_data = basecall_pd.to_numpy()\n",
    "signal_pre_basecall, spotlist, basecall_pd_pre = crosstalk_correct(basecall_pd, M, numCycles, cycle1ImageSet.wavelengths, factor_method=\"nnls\")\n",
    "\n",
    "#spotlist = sorted(spotlist)\n",
    "basecall_pd_pre.to_csv(os.path.join(input_dir_path, \"basecaller_output_data_pre.csv\"))\n",
    "#print(spotlist)"
   ]
  },
  {
   "cell_type": "markdown",
   "id": "f5715bc5",
   "metadata": {},
   "source": [
    "### Next, define p and q for phase correction matrix:"
   ]
  },
  {
   "cell_type": "code",
   "execution_count": null,
   "id": "98a3e48b",
   "metadata": {},
   "outputs": [],
   "source": [
    "p = 0.015   # Probability that ZERO new base synthesized during a cycle (lagging)\n",
    "q = 0.127   # Probability that TWO new bases synthesized during a cycle (leading)\n",
    "\n",
    "#### DO NOT EDIT BELOW THIS LINE ####\n",
    "Qinv = create_phase_correct_matrix(p,q,numCycles)\n",
    "signal_post_basecall = np.transpose( (np.transpose(signal_pre_basecall, axes=(0,2,1)) @ Qinv)[:,:,:-1], axes=(0,2,1))\n",
    "basecall_pd_post = add_basecall_result_to_dataframe(signal_post_basecall, basecall_pd)\n",
    "basecall_pd_post.to_csv(os.path.join(input_dir_path, \"basecaller_output_data_post.csv\"))\n"
   ]
  },
  {
   "cell_type": "markdown",
   "id": "d2333971",
   "metadata": {},
   "source": [
    "### Now display results and write to report\n",
    "Define report filename and number of rows in figure outputs."
   ]
  },
  {
   "cell_type": "code",
   "execution_count": null,
   "id": "80323d6a",
   "metadata": {
    "scrolled": false
   },
   "outputs": [],
   "source": [
    "# You can name report file here:\n",
    "reportfile = os.path.join(input_dir_path, \"report.txt\")\n",
    "\n",
    "''' User settings for visualization\n",
    "    If to_exclude_from_visualization is None, all spots are shown.\n",
    "    figNumPages is the number of pages of figures.\n",
    "    figNumRows is the number of rows of plots per page.  \n",
    "'''\n",
    "to_exclude_from_visualization = [1,2,3,4,10,17,20,21,22,23,25,30,]#32,34,39,46,63,68,70,71,72,74,76,77,78,81,82,19,28,37,44,53,61,54,62,]\n",
    "to_exclude_from_visualization = None\n",
    "\n",
    "figNumRows = 3\n",
    "figNumPages = 2\n",
    "showLabels = False\n",
    "showSignal = False\n",
    "\n",
    "\n",
    "#### DO NOT EDIT BELOW THIS LINE ####\n",
    "\n",
    "#TODO: spot name lookup table\n",
    "spotlist_to_show = []\n",
    "for s in range(1,83):\n",
    "    if to_exclude_from_visualization is None or s not in to_exclude_from_visualization:\n",
    "        spotlist_to_show.append(spotlist[s-1])\n",
    "        \n",
    "#When list of spots is given (instead of list of exclusions), use following line:\n",
    "#spotlist_to_show = [spotlist[s-1] for s in spots_to_show]\n",
    "\n",
    "f1, f2 = display_signals(signal_pre_basecall, spotlist, numCycles, show_spots = spotlist_to_show, numRows=figNumRows, numPages=figNumPages, preOrPost=\"pre\", labels=False, noSignal = not showSignal)\n",
    "f3, f4 = display_signals(signal_post_basecall, spotlist, numCycles-1, show_spots = spotlist_to_show, numRows=figNumRows, numPages=figNumPages, preOrPost=\"post\", labels=False, noSignal = not showSignal)\n",
    "\n",
    "for f_idx, f in enumerate(f1):\n",
    "    f.savefig(os.path.join(input_dir_path, f\"Purity Pre-Phase {f_idx+1}.png\"), dpi=300)\n",
    "for f_idx, f in enumerate(f2):\n",
    "    f.savefig(os.path.join(input_dir_path, f\"Signal Pre-Phase {f_idx+1}.png\"), dpi=300)\n",
    "for f_idx, f in enumerate(f3):\n",
    "    f.savefig(os.path.join(input_dir_path, f\"Purity Post-Phase {f_idx+1}.png\"), dpi=300)\n",
    "#for f_idx, f in enumerate(f4):\n",
    "#    f.savefig(os.path.join(input_dir_path, f\"Signal Post-Phase {f_idx+1}.png\"), dpi=300)\n",
    "\n",
    "#TODO add more metrics to report\n",
    "#TODO package up as pdf?    \n",
    "\n",
    "with open(reportfile, 'w') as f:\n",
    "    if useDifferenceImage:\n",
    "        print(f\"Difference = Temporal\", file=f)\n",
    "    else:\n",
    "        print(f\"Difference = Dark\", file=f)\n",
    "\n",
    "    print(f\"Median Filter Kernel Size = {median_kernel_size}\", file=f)\n",
    "    print(f\"Erosion Kernel Size = {erode_kernel_size}\", file=f)\n",
    "    print(f\"Dilation Kernel Size = {dilate_kernel_size}\", file=f)\n",
    "    print(f\"Mean Threshold Scale Factor = {threshold_scale}\", file=f)\n",
    "    print(f\"ROI labels at {os.path.join(input_dir_path, 'rois.jpg')}\", file=f)\n",
    "    print(f\"'Cross-talk' matrix M = {M}\", file=f)\n",
    "    #todo list where output csv is?\n",
    "    print(f\"Pre-phase corrected Purity at {os.path.join(input_dir_path, 'Purity Pre-Phase.png')}\", file=f)\n",
    "    print(f\"Pre-phase corrected Signal {os.path.join(input_dir_path, 'Signal Pre-Phase.png')}\", file=f)\n",
    "    print(f\"Base-caller p = {p}\", file=f)\n",
    "    print(f\"Base-caller q = {q}\", file=f)\n",
    "    print(f\"Post-phase corrected Purity at {os.path.join(input_dir_path, 'Purity Post-Phase.png')}\", file=f)\n",
    "    print(f\"Post-phase corrected Signal {os.path.join(input_dir_path, 'Signal Post-Phase.png')}\", file=f)"
   ]
  },
  {
   "cell_type": "code",
   "execution_count": null,
   "id": "9114656a",
   "metadata": {},
   "outputs": [],
   "source": [
    "print(spotlist)"
   ]
  }
 ],
 "metadata": {
  "kernelspec": {
   "display_name": "Python 3 (ipykernel)",
   "language": "python",
   "name": "python3"
  },
  "language_info": {
   "codemirror_mode": {
    "name": "ipython",
    "version": 3
   },
   "file_extension": ".py",
   "mimetype": "text/x-python",
   "name": "python",
   "nbconvert_exporter": "python",
   "pygments_lexer": "ipython3",
   "version": "3.9.7"
  }
 },
 "nbformat": 4,
 "nbformat_minor": 5
}
